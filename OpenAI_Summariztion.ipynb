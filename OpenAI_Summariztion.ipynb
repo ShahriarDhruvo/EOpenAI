{
  "nbformat": 4,
  "nbformat_minor": 0,
  "metadata": {
    "colab": {
      "provenance": []
    },
    "kernelspec": {
      "name": "python3",
      "display_name": "Python 3"
    },
    "language_info": {
      "name": "python"
    }
  },
  "cells": [
    {
      "cell_type": "code",
      "execution_count": null,
      "metadata": {
        "id": "W0LwUqGYnpXF"
      },
      "outputs": [],
      "source": [
        "!pip install langchain unstructured openai tiktoken"
      ]
    },
    {
      "cell_type": "code",
      "source": [
        "import os\n",
        "import nltk\n",
        "import json\n",
        "import magic\n",
        "import random\n",
        "import datetime\n",
        "import pandas as pd\n",
        "from datetime import timedelta\n",
        "from langchain.chains import RetrievalQA\n",
        "from langchain.vectorstores import Chroma\n",
        "from langchain.chat_models import ChatOpenAI\n",
        "from IPython.display import Markdown, display\n",
        "from langchain.document_loaders import DirectoryLoader\n",
        "from langchain.embeddings.openai import OpenAIEmbeddings\n",
        "from langchain.chains.summarize import load_summarize_chain\n",
        "from langchain.text_splitter import RecursiveCharacterTextSplitter\n",
        "\n",
        "!rm -rf './data'\n",
        "os.makedirs('data')\n",
        "\n",
        "os.environ[\"OPENAI_API_KEY\"] = \"HERE IS THE API KEY\"\n",
        "\n",
        "def genRandomDate():\n",
        "  end_date = datetime.datetime.now()\n",
        "  start_date = end_date - timedelta(days=1000)\n",
        "  return str(start_date + (end_date - start_date) * random.random())\n",
        "\n",
        "def genRandomUser():\n",
        "  users = [\"Poppyhead\", \"Zygomatic\", \"Calathus\", \"Skedaddle\", \"Negative\", \"Rejigger\", \"Apolaustic\", \"Phalanx\", \"Havelock\", \"Sardoodledom\", \"Galimatias\", \"Palomino\", \"Thaumatogeny\", \"Piffling\", \"Vaniloquence\", \"Trencherman\", \"Pilgarlic\", \"Curlicue\", \"KilimZol\", \"EnchanMizzen\", \"Ludicrism\", \"DartmoorYawp\", \"Anorchous\", \"Umpteen\", \"IquidDuck\", \"JcavalJunket\", \"Symptosis\", \"RuffminOxter\", \"Luciform\", \"Antimacassar\", \"Onomatopoeia\", \"Blackguard\", \"Xerotripsis\", \"Orgulous\", \"Almacantar\", \"Comeuppance\", \"ChichimWonky\", \"Logorrhea\", \"Knickknack\", \"Cornucopia\", \"Rupellary\", \"Peewee\", \"Armigerous\", \"Gardyloo\", \"Nephralgia\", \"Piccadilly\", \"Aleeman171999\", \"Harebrained\", \"Nektonseph2004\", \"Limburger\", \"Zonulet\", \"Sambur\", \"Aasvogel\", \"Primp\", \"Cinemuck\", \"Jubilee\", \"Capripede\", \"Flophouse\", \"Tachyphrasia\", \"Ephemeral\", \"Paraenesis\", \"Normalcy\", \"Morwolf1596\", \"Hotbed\", \"Limnguinhd\", \"Parapet\", \"Ateknia\", \"Taradiddle\", \"Blowback\", \"Kudzu\", \"Opsiometer\", \"Outflow\", \"Prismatic\", \"Roundabout\", \"Bellycheer\", \"Ewer\", \"Rabblefalnd\", \"Mufti\", \"Anemograph\", \"Cheeky\"]\n",
        "  return random.choice(users)\n"
      ],
      "metadata": {
        "id": "gzj0n7PEnwnL"
      },
      "execution_count": null,
      "outputs": []
    },
    {
      "cell_type": "code",
      "source": [
        "data = pd.read_csv(\"test.csv\", delimiter=\",\")\n",
        "\n",
        "with open(f'data/file.jsonl', 'w', encoding='utf-8') as f:\n",
        "  for row in data['review']:\n",
        "    f.write(json.dumps(str({\n",
        "        'username': genRandomUser(),\n",
        "        'commented_on': genRandomDate(),\n",
        "        'comment': row.split('READ MORE')[0]\n",
        "    })) + '\\n')"
      ],
      "metadata": {
        "id": "NLrawbkrvHVC"
      },
      "execution_count": null,
      "outputs": []
    },
    {
      "cell_type": "code",
      "source": [
        "# load all documents\n",
        "loader = DirectoryLoader('data', glob=\"**/*.jsonl\")\n",
        "documents = loader.load()\n",
        "\n",
        "# split the documents into chunks\n",
        "text_splitter = RecursiveCharacterTextSplitter(\n",
        "    chunk_size = 2000,\n",
        "    chunk_overlap  = 0,\n",
        "    length_function = len,\n",
        ")\n",
        "\n",
        "texts = text_splitter.split_documents(documents)\n",
        "\n",
        "# initialize the Summary chain\n",
        "chain = load_summarize_chain(llm=ChatOpenAI(), chain_type='refine')"
      ],
      "metadata": {
        "id": "o2kv09aGvL91"
      },
      "execution_count": null,
      "outputs": []
    },
    {
      "cell_type": "code",
      "source": [
        "# texts[:5]"
      ],
      "metadata": {
        "id": "RyfccVt6B-aO"
      },
      "execution_count": null,
      "outputs": []
    },
    {
      "cell_type": "code",
      "source": [
        "response = chain.run(texts[:5])\n",
        "display(Markdown(f\"Ans: <b>{response}</b>\"))\n",
        "\n",
        "# while True: \n",
        "#   query = input(\"Ques: \")\n",
        "#   if query == \"exit\": break\n",
        "\n",
        "#   response = chain({\"input_documents\": texts[:5], \"question\": query}, return_only_outputs=True)\n",
        "#   display(Markdown(f\"Ans: <b>{response['output_text']}</b>\"))\n",
        "#   # print('source_documents', response['source_documents'])"
      ],
      "metadata": {
        "colab": {
          "base_uri": "https://localhost:8080/",
          "height": 168
        },
        "id": "4aYkCGZqvQ0s",
        "outputId": "1f34c78c-1a09-4011-9330-2adfc7a2284d"
      },
      "execution_count": null,
      "outputs": [
        {
          "output_type": "display_data",
          "data": {
            "text/plain": [
              "<IPython.core.display.Markdown object>"
            ],
            "text/markdown": "Ans: <b>Five users have praised the powerful bass and good sound quality of a product that has outstanding build quality made of good quality plastic. The product is also portable, with a long battery life, and considered value for money. However, some users noted discomfort from prolonged use due to its small size, and one recommended having a wired alternative for when the battery runs low. The Bluetooth connectivity is average, and the calling feature is poor. Some users reported that the sound for alerts, notifications, and calls is excessively loud and irritating. One user reported that the microphone doesn't work well over Bluetooth, making it difficult for the other person to hear the user's speech clearly. Additionally, despite some positive reviews on battery life, one user found the microphone was not clear when using the product while driving. Another user reported that the bass is not as heavy as advertised, and also noted issues with the Bluetooth connectivity when playing certain music tracks. Nonetheless, the product remains a recommended option for those seeking a budget-friendly option for music consumption.</b>"
          },
          "metadata": {}
        }
      ]
    }
  ]
}
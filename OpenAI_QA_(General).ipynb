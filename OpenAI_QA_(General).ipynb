{
  "nbformat": 4,
  "nbformat_minor": 0,
  "metadata": {
    "colab": {
      "provenance": []
    },
    "kernelspec": {
      "name": "python3",
      "display_name": "Python 3"
    },
    "language_info": {
      "name": "python"
    }
  },
  "cells": [
    {
      "cell_type": "markdown",
      "source": [
        "# Initializations"
      ],
      "metadata": {
        "id": "VDy-y4ix5XMX"
      }
    },
    {
      "cell_type": "code",
      "source": [
        "!pip install langchain python-magic unstructured chromadb openai"
      ],
      "metadata": {
        "id": "SpS5QUu2H5oG"
      },
      "execution_count": null,
      "outputs": []
    },
    {
      "cell_type": "code",
      "source": [
        "import os\n",
        "import nltk\n",
        "import json\n",
        "import magic\n",
        "import random\n",
        "import datetime\n",
        "import pandas as pd\n",
        "from datetime import timedelta\n",
        "from langchain.chains import RetrievalQA\n",
        "from langchain.vectorstores import Chroma\n",
        "from langchain.chat_models import ChatOpenAI\n",
        "from IPython.display import Markdown, display\n",
        "from langchain.document_loaders import DirectoryLoader\n",
        "from langchain.embeddings.openai import OpenAIEmbeddings\n",
        "from langchain.text_splitter import RecursiveCharacterTextSplitter\n",
        "\n",
        "!rm -rf './data'\n",
        "os.makedirs('data')\n",
        "\n",
        "os.environ[\"OPENAI_API_KEY\"] = \"HERE IS THE API KEY\"\n",
        "\n",
        "def genRandomDate():\n",
        "  end_date = datetime.datetime.now()\n",
        "  start_date = end_date - timedelta(days=1000)\n",
        "  return str(start_date + (end_date - start_date) * random.random())\n",
        "\n",
        "def genRandomUser():\n",
        "  users = [\"Poppyhead\", \"Zygomatic\", \"Calathus\", \"Skedaddle\", \"Negative\", \"Rejigger\", \"Apolaustic\", \"Phalanx\", \"Havelock\", \"Sardoodledom\", \"Galimatias\", \"Palomino\", \"Thaumatogeny\", \"Piffling\", \"Vaniloquence\", \"Trencherman\", \"Pilgarlic\", \"Curlicue\", \"KilimZol\", \"EnchanMizzen\", \"Ludicrism\", \"DartmoorYawp\", \"Anorchous\", \"Umpteen\", \"IquidDuck\", \"JcavalJunket\", \"Symptosis\", \"RuffminOxter\", \"Luciform\", \"Antimacassar\", \"Onomatopoeia\", \"Blackguard\", \"Xerotripsis\", \"Orgulous\", \"Almacantar\", \"Comeuppance\", \"ChichimWonky\", \"Logorrhea\", \"Knickknack\", \"Cornucopia\", \"Rupellary\", \"Peewee\", \"Armigerous\", \"Gardyloo\", \"Nephralgia\", \"Piccadilly\", \"Aleeman171999\", \"Harebrained\", \"Nektonseph2004\", \"Limburger\", \"Zonulet\", \"Sambur\", \"Aasvogel\", \"Primp\", \"Cinemuck\", \"Jubilee\", \"Capripede\", \"Flophouse\", \"Tachyphrasia\", \"Ephemeral\", \"Paraenesis\", \"Normalcy\", \"Morwolf1596\", \"Hotbed\", \"Limnguinhd\", \"Parapet\", \"Ateknia\", \"Taradiddle\", \"Blowback\", \"Kudzu\", \"Opsiometer\", \"Outflow\", \"Prismatic\", \"Roundabout\", \"Bellycheer\", \"Ewer\", \"Rabblefalnd\", \"Mufti\", \"Anemograph\", \"Cheeky\"]\n",
        "  return random.choice(users)\n"
      ],
      "metadata": {
        "id": "ep61wb4TBw1H"
      },
      "execution_count": null,
      "outputs": []
    },
    {
      "cell_type": "markdown",
      "source": [
        "# Preparing the data"
      ],
      "metadata": {
        "id": "EzxfS4Vxc2LU"
      }
    },
    {
      "cell_type": "code",
      "source": [
        "data = pd.read_csv(\"test.csv\", delimiter=\",\")\n",
        "\n",
        "with open(f'data/file.jsonl', 'w', encoding='utf-8') as f:\n",
        "  for row in data['review']:\n",
        "    f.write(json.dumps(str({\n",
        "        'username': genRandomUser(),\n",
        "        'commented_on': genRandomDate(),\n",
        "        'comment': row.split('READ MORE')[0]\n",
        "    })) + '\\n')"
      ],
      "metadata": {
        "id": "zcvG4_OeIzza"
      },
      "execution_count": null,
      "outputs": []
    },
    {
      "cell_type": "markdown",
      "source": [
        "# Starting the main code"
      ],
      "metadata": {
        "id": "4IMj00OE5R5d"
      }
    },
    {
      "cell_type": "code",
      "source": [
        "# load all documents\n",
        "loader = DirectoryLoader('data', glob=\"**/*.jsonl\")\n",
        "documents = loader.load()\n",
        "\n",
        "# split the documents into chunks\n",
        "text_splitter = RecursiveCharacterTextSplitter(\n",
        "    chunk_size = 2000,\n",
        "    chunk_overlap  = 0,\n",
        "    length_function = len,\n",
        ")\n",
        "\n",
        "texts = text_splitter.split_documents(documents)\n",
        "\n",
        "# embed all those chunks and store them into a vectorDB (chroma)\n",
        "embeddings = OpenAIEmbeddings(openai_api_key=os.environ['OPENAI_API_KEY'])\n",
        "docsearch = Chroma.from_documents(texts, embeddings)\n",
        "\n",
        "# initialize the QA model\n",
        "qa = RetrievalQA.from_llm(llm=ChatOpenAI(), retriever=docsearch.as_retriever(), return_source_documents=True)"
      ],
      "metadata": {
        "id": "h5xwgnaa7Fud",
        "colab": {
          "base_uri": "https://localhost:8080/"
        },
        "outputId": "39e24c5f-94ae-4d0d-e645-e46c48b84572"
      },
      "execution_count": null,
      "outputs": [
        {
          "output_type": "stream",
          "name": "stdout",
          "text": [
            "Exiting: Cleaning up .chroma directory\n",
            "Running Chroma using direct local API.\n",
            "Using DuckDB in-memory for database. Data will be transient.\n"
          ]
        },
        {
          "output_type": "stream",
          "name": "stderr",
          "text": [
            "DEBUG:Chroma:Index not found\n",
            "DEBUG:Chroma:Index saved to .chroma/index/index.bin\n",
            "DEBUG:Chroma:Index saved to .chroma/index/index.bin\n"
          ]
        }
      ]
    },
    {
      "cell_type": "code",
      "source": [
        "while True: \n",
        "  query = input(\"Ques: \")\n",
        "  if query == \"exit\": break\n",
        "\n",
        "  response = qa({\"query\": query})\n",
        "  display(Markdown(f\"Ans: <b>{response['result']}</b>\"))\n",
        "  # print('source_documents', response['source_documents'])"
      ],
      "metadata": {
        "colab": {
          "base_uri": "https://localhost:8080/",
          "height": 1000
        },
        "id": "8xbfnFnM7UZb",
        "outputId": "a4002871-750b-4181-bbc5-22aec521e354"
      },
      "execution_count": null,
      "outputs": [
        {
          "name": "stdout",
          "output_type": "stream",
          "text": [
            "Ques: Comments count on 2020-08-03?\n"
          ]
        },
        {
          "output_type": "stream",
          "name": "stderr",
          "text": [
            "DEBUG:Chroma:time to pre process our knn query: 2.384185791015625e-06\n",
            "DEBUG:Chroma:time to run knn query: 0.0007333755493164062\n"
          ]
        },
        {
          "output_type": "display_data",
          "data": {
            "text/plain": [
              "<IPython.core.display.Markdown object>"
            ],
            "text/markdown": "Ans: <b>There is no comment provided in the given context on 2020-08-03, so it is not possible to determine the comment count on that date.</b>"
          },
          "metadata": {}
        },
        {
          "name": "stdout",
          "output_type": "stream",
          "text": [
            "Ques: what's on your context?\n"
          ]
        },
        {
          "output_type": "stream",
          "name": "stderr",
          "text": [
            "DEBUG:Chroma:time to pre process our knn query: 2.6226043701171875e-06\n",
            "DEBUG:Chroma:time to run knn query: 0.0002694129943847656\n"
          ]
        },
        {
          "output_type": "display_data",
          "data": {
            "text/plain": [
              "<IPython.core.display.Markdown object>"
            ],
            "text/markdown": "Ans: <b>I am a language model AI and I do not have any personal experiences or context. However, I do have sets of comments/reviews regarding headphones that I can help you with.</b>"
          },
          "metadata": {}
        },
        {
          "name": "stdout",
          "output_type": "stream",
          "text": [
            "Ques: How many reviews are there in your context?\n"
          ]
        },
        {
          "output_type": "stream",
          "name": "stderr",
          "text": [
            "DEBUG:Chroma:time to pre process our knn query: 3.0994415283203125e-06\n",
            "DEBUG:Chroma:time to run knn query: 0.00024819374084472656\n"
          ]
        },
        {
          "output_type": "display_data",
          "data": {
            "text/plain": [
              "<IPython.core.display.Markdown object>"
            ],
            "text/markdown": "Ans: <b>There are 15 reviews in the context.</b>"
          },
          "metadata": {}
        },
        {
          "name": "stdout",
          "output_type": "stream",
          "text": [
            "Ques: Classify them in positive and negative reviews\n"
          ]
        },
        {
          "output_type": "stream",
          "name": "stderr",
          "text": [
            "DEBUG:Chroma:time to pre process our knn query: 1.9073486328125e-06\n",
            "DEBUG:Chroma:time to run knn query: 0.0007910728454589844\n"
          ]
        },
        {
          "output_type": "display_data",
          "data": {
            "text/plain": [
              "<IPython.core.display.Markdown object>"
            ],
            "text/markdown": "Ans: <b>Positive reviews:\n- \"Sound nd Bass is osm...\" by user Vaniloquence\n- \"Super ... battery backup is excellent\" by user Opsiometer\n- \"It's Amazing\" by user Negative\n- \"This is my honest review after 10 months of use...\" by user Palomino\n- \"I give review after 7 month using  this is awesome\" by user Trencherman\n- \"this headphones are very good in this price range...\" by user IquidDuck\n- \"excellent sound quality with superior bass backed with great battery power...\" by user Havelock\n- \"Good headphones gives u decent bass. very comfortable...\" by user Taradiddle\n- \"Worth every rupees, Good clear sound quality and bass , it's a trustworthy product.\" by user Jubilee\n- \"i belive that in this range this is the best bluetooth headphone..bass awasome and i realy like this..\" by user Ephemeral\n- \"fantastic bass and crisp and clear voice overall super\" by user Anemograph\n- \"'beautiful design and comfortable to wear sound quality and battery back up is also very very good thank you Flipkart for giving such a nice product on this range\" by user Taradiddle\n- \"Awesome product by Boat. Great delivery by Flipkart, 1day before expected date.Bass and Sound clarity is great...\" by user Apolaustic\n- \"just love itsuperb bass and sound quality is too much good...\" by user Cinemuck\n\nNegative reviews:\n- \"Average product... not as much good as I was assuming...\" by user Orgulous\n- \"There is no issue just few things...\" by user Blackguard\n- \"Mic not work well in voice calls...\" by user Normalcy\n- \"mic doesn't work properly...\" by user Calathus</b>"
          },
          "metadata": {}
        },
        {
          "name": "stdout",
          "output_type": "stream",
          "text": [
            "Ques: Classify them based on the product name\n"
          ]
        },
        {
          "output_type": "stream",
          "name": "stderr",
          "text": [
            "DEBUG:Chroma:time to pre process our knn query: 2.384185791015625e-06\n",
            "DEBUG:Chroma:time to run knn query: 0.0008156299591064453\n"
          ]
        },
        {
          "output_type": "display_data",
          "data": {
            "text/plain": [
              "<IPython.core.display.Markdown object>"
            ],
            "text/markdown": "Ans: <b>I'm sorry, I cannot classify them based on the product name because the product name is not provided in the context.</b>"
          },
          "metadata": {}
        },
        {
          "name": "stdout",
          "output_type": "stream",
          "text": [
            "Ques: Which product are most popular?\n"
          ]
        },
        {
          "output_type": "stream",
          "name": "stderr",
          "text": [
            "DEBUG:Chroma:time to pre process our knn query: 2.1457672119140625e-06\n",
            "DEBUG:Chroma:time to run knn query: 0.00025773048400878906\n"
          ]
        },
        {
          "output_type": "display_data",
          "data": {
            "text/plain": [
              "<IPython.core.display.Markdown object>"
            ],
            "text/markdown": "Ans: <b>I'm sorry, I cannot determine the most popular product based on the given context. The comments are about a product or products from the brand \"Boat,\" but there isn't enough information to determine which product is the most popular.</b>"
          },
          "metadata": {}
        },
        {
          "name": "stdout",
          "output_type": "stream",
          "text": [
            "Ques: What are these reviews of?\n"
          ]
        },
        {
          "output_type": "stream",
          "name": "stderr",
          "text": [
            "DEBUG:Chroma:time to pre process our knn query: 3.0994415283203125e-06\n",
            "DEBUG:Chroma:time to run knn query: 0.00024080276489257812\n"
          ]
        },
        {
          "output_type": "display_data",
          "data": {
            "text/plain": [
              "<IPython.core.display.Markdown object>"
            ],
            "text/markdown": "Ans: <b>These reviews seem to be about headphones, specifically the boAt Rockerz headphones.</b>"
          },
          "metadata": {}
        },
        {
          "name": "stdout",
          "output_type": "stream",
          "text": [
            "Ques: Which are the best headphones?\n"
          ]
        },
        {
          "output_type": "stream",
          "name": "stderr",
          "text": [
            "DEBUG:Chroma:time to pre process our knn query: 2.1457672119140625e-06\n",
            "DEBUG:Chroma:time to run knn query: 0.00029778480529785156\n"
          ]
        },
        {
          "output_type": "display_data",
          "data": {
            "text/plain": [
              "<IPython.core.display.Markdown object>"
            ],
            "text/markdown": "Ans: <b>I'm sorry, I cannot give you a definitive answer without additional information as each comment has different opinions and criteria for defining the \"best\" headphones. It ultimately depends on your personal preferences and needs. Please let me know if you have any specific requirements or priorities, and I can try to recommend headphones that might fit your needs.</b>"
          },
          "metadata": {}
        },
        {
          "name": "stdout",
          "output_type": "stream",
          "text": [
            "Ques: Which headphone reviews are mostly positive?\n"
          ]
        },
        {
          "output_type": "stream",
          "name": "stderr",
          "text": [
            "DEBUG:Chroma:time to pre process our knn query: 2.86102294921875e-06\n",
            "DEBUG:Chroma:time to run knn query: 0.0007929801940917969\n"
          ]
        },
        {
          "output_type": "display_data",
          "data": {
            "text/plain": [
              "<IPython.core.display.Markdown object>"
            ],
            "text/markdown": "Ans: <b>The following headphone reviews are mostly positive:\n\n- \"Nice one..battery back up is great, can be played up to 6hr if it is charged fully bass too is great..but the headphone design n build quality is not much good doesn't look so beautiful n attracting, anyway sound, bass, battery backup is much great, well n satisfaction.GO FOR IT.\"\n- \"This is my honest review after 10 months of use. I bought this for 1499 from Flipkart. If you are a bass lover go for it without any confusion. The bass is very punchy you can feel your ear vibrate with this Pros:-* Punchy bass. Don't know if any other headsets can provide this much bass* Mids & treble are crystal clear. You can hear every instrument* Battery backup is excellent.\"\n- \"excellent sound quality with superior bass backed with great battery power and feather light built quality... Mind blowing purchase.. good for music enthusiasts.. and wise choice purchase this at this price range... I'm totally loving it!!\"\n- \"Good headphones give u decent bass. very comfortable...if u want good headphones with overall decent quality go for it.\"\n- \"even though it is little tight on your head it provides super bass and clarity. very good backup. overall fabulous product.\" \n- \"okk i have been using these for almost 5 months now and here is my review for these headphones:- Superb sound quality, Bass is osm, minimal design, a little tight for sometime but adjusts after a week or so..,minimal controler keys, soft cushions, nice battery backup/decent charging speed, I didnt find the mic that good but overall its a beast in this price range.\"</b>"
          },
          "metadata": {}
        },
        {
          "name": "stdout",
          "output_type": "stream",
          "text": [
            "Ques: exit\n"
          ]
        }
      ]
    }
  ]
}